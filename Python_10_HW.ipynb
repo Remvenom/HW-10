{
 "cells": [
  {
   "cell_type": "markdown",
   "metadata": {},
   "source": [
    "# Задание 1\n",
    "\n",
    "Скачайте с сайта https://grouplens.org/datasets/movielens/ датасет любого размера. Определите какому фильму было выставлено больше всего оценок 5.0."
   ]
  },
  {
   "cell_type": "code",
   "execution_count": 1,
   "metadata": {},
   "outputs": [],
   "source": [
    "import pandas as pd"
   ]
  },
  {
   "cell_type": "code",
   "execution_count": 6,
   "metadata": {},
   "outputs": [
    {
     "name": "stdout",
     "output_type": "stream",
     "text": [
      "Фильм с максимальным количеством оценок 5:  Shawshank Redemption, The (1994)\n"
     ]
    }
   ],
   "source": [
    "data_rating = pd.read_csv('ratings.csv')\n",
    "data_movie = pd.read_csv('movies.csv')\n",
    "id_max_rate = data_rating[data_rating['rating'] == 5]['movieId'].value_counts().head(1).keys().tolist()[0]\n",
    "title_max_rate = data_movie[data_movie['movieId'] == id_max_rate]['title'].tolist()[0]\n",
    "print('Фильм с максимальным количеством оценок 5: ', title_max_rate)"
   ]
  },
  {
   "cell_type": "markdown",
   "metadata": {},
   "source": [
    "# Задание 2\n",
    "\n",
    "По данным файла power.csv посчитайте суммарное потребление стран Прибалтики (Латвия, Литва и Эстония) категорий 4, 12 и 21 за период с 2005 по 2010 года. Не учитывайте в расчетах отрицательные значения quantity."
   ]
  },
  {
   "cell_type": "code",
   "execution_count": 7,
   "metadata": {},
   "outputs": [
    {
     "name": "stdout",
     "output_type": "stream",
     "text": [
      "Суммарное потребление электроэнергии Прибалтики: 7715510.547429999\n"
     ]
    }
   ],
   "source": [
    "data = pd.read_csv('power.csv')\n",
    "\n",
    "filtered = data[ (data['country']=='Latvian') | (data['country']=='Lithuania') | (data['country']=='Estonia') & (data['category']=='4') | (data['category']=='12') | (data['category']=='21') ]\n",
    "too_filtered = filtered[ (filtered.year > 2004) & (filtered.year < 2011) & (filtered.quantity > 0) ]\n",
    "\n",
    "results = too_filtered['quantity']\n",
    "print('Суммарное потребление электроэнергии Прибалтики: '+str(results.sum()))"
   ]
  },
  {
   "cell_type": "markdown",
   "metadata": {},
   "source": [
    "# Задание 3\n",
    "\n",
    "Выберите страницу любого сайта с табличными данными. Импортируйте таблицы в pandas dataframe.\n",
    "Примеры страниц (необязательно брать именно эти):\n",
    "https://fortrader.org/quotes\n",
    "https://www.finanz.ru/valyuty/v-realnom-vremeni"
   ]
  },
  {
   "cell_type": "code",
   "execution_count": 10,
   "metadata": {},
   "outputs": [
    {
     "data": {
      "text/html": [
       "<div>\n",
       "<style scoped>\n",
       "    .dataframe tbody tr th:only-of-type {\n",
       "        vertical-align: middle;\n",
       "    }\n",
       "\n",
       "    .dataframe tbody tr th {\n",
       "        vertical-align: top;\n",
       "    }\n",
       "\n",
       "    .dataframe thead th {\n",
       "        text-align: right;\n",
       "    }\n",
       "</style>\n",
       "<table border=\"1\" class=\"dataframe\">\n",
       "  <thead>\n",
       "    <tr style=\"text-align: right;\">\n",
       "      <th></th>\n",
       "      <th>Название</th>\n",
       "      <th>Цена</th>\n",
       "      <th>Изменение</th>\n",
       "      <th>Изменение(%)</th>\n",
       "      <th>Обновлено</th>\n",
       "    </tr>\n",
       "  </thead>\n",
       "  <tbody>\n",
       "    <tr>\n",
       "      <td>0</td>\n",
       "      <td>Нефть (BRENT) Курс нефти сегодня</td>\n",
       "      <td>26.050</td>\n",
       "      <td>-2.80</td>\n",
       "      <td>-9.710</td>\n",
       "      <td>NaN</td>\n",
       "    </tr>\n",
       "    <tr>\n",
       "      <td>1</td>\n",
       "      <td>Нефть (WTI) Цены на нефть (WTI)</td>\n",
       "      <td>21.930</td>\n",
       "      <td>-4.55</td>\n",
       "      <td>-17.180</td>\n",
       "      <td>NaN</td>\n",
       "    </tr>\n",
       "    <tr>\n",
       "      <td>2</td>\n",
       "      <td>Сахар котировки на сахар</td>\n",
       "      <td>12.630</td>\n",
       "      <td>1.76</td>\n",
       "      <td>16.190</td>\n",
       "      <td>NaN</td>\n",
       "    </tr>\n",
       "    <tr>\n",
       "      <td>3</td>\n",
       "      <td>Газ Цена на газ</td>\n",
       "      <td>1.658</td>\n",
       "      <td>0.93</td>\n",
       "      <td>127.747</td>\n",
       "      <td>NaN</td>\n",
       "    </tr>\n",
       "  </tbody>\n",
       "</table>\n",
       "</div>"
      ],
      "text/plain": [
       "                           Название    Цена  Изменение  Изменение(%)  \\\n",
       "0  Нефть (BRENT) Курс нефти сегодня  26.050      -2.80        -9.710   \n",
       "1   Нефть (WTI) Цены на нефть (WTI)  21.930      -4.55       -17.180   \n",
       "2          Сахар котировки на сахар  12.630       1.76        16.190   \n",
       "3                   Газ Цена на газ   1.658       0.93       127.747   \n",
       "\n",
       "   Обновлено  \n",
       "0        NaN  \n",
       "1        NaN  \n",
       "2        NaN  \n",
       "3        NaN  "
      ]
     },
     "execution_count": 10,
     "metadata": {},
     "output_type": "execute_result"
    }
   ],
   "source": [
    "page_url = 'https://fortrader.org/quotes'\n",
    "pd.read_html(page_url)[1]"
   ]
  }
 ],
 "metadata": {
  "kernelspec": {
   "display_name": "Python 3",
   "language": "python",
   "name": "python3"
  },
  "language_info": {
   "codemirror_mode": {
    "name": "ipython",
    "version": 3
   },
   "file_extension": ".py",
   "mimetype": "text/x-python",
   "name": "python",
   "nbconvert_exporter": "python",
   "pygments_lexer": "ipython3",
   "version": "3.7.4"
  }
 },
 "nbformat": 4,
 "nbformat_minor": 2
}
